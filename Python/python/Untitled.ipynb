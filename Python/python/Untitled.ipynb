{
 "cells": [
  {
   "cell_type": "code",
   "execution_count": 1,
   "id": "472fd54e",
   "metadata": {},
   "outputs": [],
   "source": [
    "lang = 'Ahmad'\n",
    "# lang(variable/identifier)   =(assignment operator) 'Ahmad' (literal)"
   ]
  },
  {
   "cell_type": "code",
   "execution_count": 2,
   "id": "44364146",
   "metadata": {},
   "outputs": [
    {
     "name": "stdout",
     "output_type": "stream",
     "text": [
      "Ahmad\n"
     ]
    }
   ],
   "source": [
    "print(lang)"
   ]
  },
  {
   "cell_type": "code",
   "execution_count": 3,
   "id": "42e513a0",
   "metadata": {},
   "outputs": [
    {
     "name": "stdout",
     "output_type": "stream",
     "text": [
      "1390\n"
     ]
    }
   ],
   "source": [
    "lang = 1390\n",
    "print(lang)"
   ]
  },
  {
   "cell_type": "code",
   "execution_count": 2,
   "id": "4fb72d0b",
   "metadata": {},
   "outputs": [],
   "source": [
    "# THIS IS A COMMENT lkjasdlk;fja;dklsjfl;kadsjfkl;ajsdkl;fjsad;lkfj;lkasdjafkl;sdjf"
   ]
  },
  {
   "cell_type": "code",
   "execution_count": 4,
   "id": "443ecb0b",
   "metadata": {},
   "outputs": [],
   "source": [
    "# l is a number to hold length of something\n",
    "l = 32"
   ]
  },
  {
   "cell_type": "code",
   "execution_count": 5,
   "id": "b9ba4a29",
   "metadata": {},
   "outputs": [],
   "source": [
    "# kl;fjadslk;fjal;sdjflk;asdjfkl;jasdkl;fjalsdk;jfl;kasjdf\n",
    "# jf;laksdjfl;kjasdl;kfjds"
   ]
  },
  {
   "cell_type": "code",
   "execution_count": 7,
   "id": "1c83eec7",
   "metadata": {},
   "outputs": [
    {
     "data": {
      "text/plain": [
       "'\\n\\n\\n\\n\\nThis is a comment\\n\\n\\n\\n\\n\\n'"
      ]
     },
     "execution_count": 7,
     "metadata": {},
     "output_type": "execute_result"
    }
   ],
   "source": [
    "'''\n",
    "\n",
    "\n",
    "\n",
    "\n",
    "This is a comment\n",
    "\n",
    "\n",
    "\n",
    "\n",
    "\n",
    "'''"
   ]
  },
  {
   "cell_type": "code",
   "execution_count": 8,
   "id": "93b00728",
   "metadata": {},
   "outputs": [],
   "source": [
    "number = 10"
   ]
  },
  {
   "cell_type": "code",
   "execution_count": 9,
   "id": "bc3c0182",
   "metadata": {},
   "outputs": [
    {
     "name": "stdout",
     "output_type": "stream",
     "text": [
      "10\n"
     ]
    }
   ],
   "source": [
    "print(number)"
   ]
  },
  {
   "cell_type": "code",
   "execution_count": 12,
   "id": "069e2b45",
   "metadata": {},
   "outputs": [],
   "source": [
    "number = 'NAN'"
   ]
  },
  {
   "cell_type": "code",
   "execution_count": 13,
   "id": "0d64ea38",
   "metadata": {},
   "outputs": [
    {
     "name": "stdout",
     "output_type": "stream",
     "text": [
      "NAN\n"
     ]
    }
   ],
   "source": [
    "print(number)"
   ]
  },
  {
   "cell_type": "code",
   "execution_count": 18,
   "id": "496e7081",
   "metadata": {},
   "outputs": [],
   "source": [
    "a, b, c, d = 10, 20, 30, 40"
   ]
  },
  {
   "cell_type": "code",
   "execution_count": 15,
   "id": "8e6877fd",
   "metadata": {},
   "outputs": [
    {
     "name": "stdout",
     "output_type": "stream",
     "text": [
      "10 20 30\n"
     ]
    }
   ],
   "source": [
    "print(a, b, c)"
   ]
  },
  {
   "cell_type": "code",
   "execution_count": 19,
   "id": "491a59e6",
   "metadata": {},
   "outputs": [],
   "source": [
    "# INCORRECT: a b c = 10 20 30"
   ]
  },
  {
   "cell_type": "code",
   "execution_count": 20,
   "id": "e71571b1",
   "metadata": {},
   "outputs": [],
   "source": [
    "event_name_actual = 20000"
   ]
  },
  {
   "cell_type": "code",
   "execution_count": 21,
   "id": "bb0fb229",
   "metadata": {},
   "outputs": [
    {
     "name": "stdout",
     "output_type": "stream",
     "text": [
      "20000\n"
     ]
    }
   ],
   "source": [
    "print(event_name_actual)"
   ]
  },
  {
   "cell_type": "code",
   "execution_count": 22,
   "id": "605e6cb2",
   "metadata": {},
   "outputs": [],
   "source": [
    "MACRO_CASE = 302000"
   ]
  },
  {
   "cell_type": "code",
   "execution_count": 23,
   "id": "65f0c8b1",
   "metadata": {},
   "outputs": [
    {
     "name": "stdout",
     "output_type": "stream",
     "text": [
      "302000\n"
     ]
    }
   ],
   "source": [
    "print(MACRO_CASE)"
   ]
  },
  {
   "cell_type": "code",
   "execution_count": 24,
   "id": "91ba41c1",
   "metadata": {},
   "outputs": [],
   "source": [
    "PI = 3.14159"
   ]
  },
  {
   "cell_type": "code",
   "execution_count": 25,
   "id": "a128b93d",
   "metadata": {},
   "outputs": [
    {
     "name": "stdout",
     "output_type": "stream",
     "text": [
      "3.14159\n"
     ]
    }
   ],
   "source": [
    "print(PI)"
   ]
  },
  {
   "cell_type": "code",
   "execution_count": 26,
   "id": "c519c0d8",
   "metadata": {},
   "outputs": [],
   "source": [
    "PI = 10"
   ]
  },
  {
   "cell_type": "code",
   "execution_count": 27,
   "id": "302d6744",
   "metadata": {},
   "outputs": [
    {
     "name": "stdout",
     "output_type": "stream",
     "text": [
      "10\n"
     ]
    }
   ],
   "source": [
    "print(PI)"
   ]
  },
  {
   "cell_type": "code",
   "execution_count": 28,
   "id": "d33c7d15",
   "metadata": {},
   "outputs": [],
   "source": [
    "say_hi = True"
   ]
  },
  {
   "cell_type": "code",
   "execution_count": 29,
   "id": "569c3fd0",
   "metadata": {},
   "outputs": [
    {
     "name": "stdout",
     "output_type": "stream",
     "text": [
      "True\n"
     ]
    }
   ],
   "source": [
    "print(say_hi)"
   ]
  },
  {
   "cell_type": "code",
   "execution_count": 40,
   "id": "d9c777f9",
   "metadata": {},
   "outputs": [],
   "source": [
    "a = 'HELLo' # signle quote Variable != variable case sensitive"
   ]
  },
  {
   "cell_type": "code",
   "execution_count": 41,
   "id": "913699d7",
   "metadata": {},
   "outputs": [],
   "source": [
    "b = \"HELLO\" # double quote"
   ]
  },
  {
   "cell_type": "code",
   "execution_count": 42,
   "id": "4856b183",
   "metadata": {},
   "outputs": [
    {
     "name": "stdout",
     "output_type": "stream",
     "text": [
      "False\n"
     ]
    }
   ],
   "source": [
    "print(a == b)"
   ]
  },
  {
   "cell_type": "code",
   "execution_count": 44,
   "id": "d2361dd0",
   "metadata": {},
   "outputs": [
    {
     "data": {
      "text/plain": [
       "3"
      ]
     },
     "execution_count": 44,
     "metadata": {},
     "output_type": "execute_result"
    }
   ],
   "source": [
    "3 "
   ]
  },
  {
   "cell_type": "code",
   "execution_count": 45,
   "id": "381e13ae",
   "metadata": {},
   "outputs": [
    {
     "data": {
      "text/plain": [
       "'3'"
      ]
     },
     "execution_count": 45,
     "metadata": {},
     "output_type": "execute_result"
    }
   ],
   "source": [
    "'3'"
   ]
  },
  {
   "cell_type": "code",
   "execution_count": 51,
   "id": "cfc1cb0c",
   "metadata": {},
   "outputs": [],
   "source": [
    "lst = [1,2,3,4, 2,2,2,2,2,2]"
   ]
  },
  {
   "cell_type": "code",
   "execution_count": 53,
   "id": "e8e8dd07",
   "metadata": {},
   "outputs": [
    {
     "name": "stdout",
     "output_type": "stream",
     "text": [
      "{1, 2, 3, 4}\n"
     ]
    }
   ],
   "source": [
    "print(set(lst))"
   ]
  },
  {
   "cell_type": "code",
   "execution_count": 48,
   "id": "9d470063",
   "metadata": {},
   "outputs": [],
   "source": [
    "d = {\n",
    "    'key': 'value'\n",
    "}"
   ]
  },
  {
   "cell_type": "code",
   "execution_count": 50,
   "id": "1478c7a7",
   "metadata": {},
   "outputs": [
    {
     "data": {
      "text/plain": [
       "'value'"
      ]
     },
     "execution_count": 50,
     "metadata": {},
     "output_type": "execute_result"
    }
   ],
   "source": []
  },
  {
   "cell_type": "code",
   "execution_count": null,
   "id": "01a066c7",
   "metadata": {},
   "outputs": [],
   "source": []
  }
 ],
 "metadata": {
  "kernelspec": {
   "display_name": "Python 3 (ipykernel)",
   "language": "python",
   "name": "python3"
  },
  "language_info": {
   "codemirror_mode": {
    "name": "ipython",
    "version": 3
   },
   "file_extension": ".py",
   "mimetype": "text/x-python",
   "name": "python",
   "nbconvert_exporter": "python",
   "pygments_lexer": "ipython3",
   "version": "3.11.3"
  }
 },
 "nbformat": 4,
 "nbformat_minor": 5
}
