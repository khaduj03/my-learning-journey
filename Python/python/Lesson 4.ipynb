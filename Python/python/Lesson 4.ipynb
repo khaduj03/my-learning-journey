{
 "cells": [
  {
   "cell_type": "code",
   "execution_count": 19,
   "id": "079f0fc4",
   "metadata": {},
   "outputs": [],
   "source": [
    "lst = [0,1,2,3,4,5,6,7]"
   ]
  },
  {
   "cell_type": "code",
   "execution_count": 20,
   "id": "c1ad5a17",
   "metadata": {},
   "outputs": [
    {
     "name": "stdout",
     "output_type": "stream",
     "text": [
      "[0, 1, 2, 3, 4, 5, 6, 7]\n"
     ]
    }
   ],
   "source": [
    "print(lst)"
   ]
  },
  {
   "cell_type": "code",
   "execution_count": 28,
   "id": "4d5acf41",
   "metadata": {},
   "outputs": [
    {
     "name": "stdout",
     "output_type": "stream",
     "text": [
      "HELLO 0\n",
      "HELLO 1\n"
     ]
    }
   ],
   "source": [
    "for number in lst: \n",
    "    \n",
    "    \n",
    "    if number == 2: \n",
    "        break\n",
    "        \n",
    "    say_hello(number)\n",
    "    \n",
    "else:\n",
    "    print('Loop is finsihed and this code runs')"
   ]
  },
  {
   "cell_type": "code",
   "execution_count": 22,
   "id": "57601c99",
   "metadata": {},
   "outputs": [],
   "source": [
    "def say_hello(num):\n",
    "    print(\"HELLO\", num)"
   ]
  },
  {
   "cell_type": "code",
   "execution_count": 11,
   "id": "53610deb",
   "metadata": {},
   "outputs": [
    {
     "name": "stdout",
     "output_type": "stream",
     "text": [
      "Swift\n",
      "Python\n",
      "Go\n",
      "JavaScript\n"
     ]
    }
   ],
   "source": [
    "languages = ['Swift', 'Python', 'Go', 'JavaScript']\n",
    "\n",
    "# run a loop for each item of the list\n",
    "for language in languages:\n",
    "    print(language)"
   ]
  },
  {
   "cell_type": "code",
   "execution_count": 21,
   "id": "7dccf413",
   "metadata": {},
   "outputs": [
    {
     "name": "stdout",
     "output_type": "stream",
     "text": [
      "number is  1\n",
      "result is  4\n",
      "number is  2\n",
      "result is  8\n",
      "2\n",
      "number is  3\n",
      "result is  12\n",
      "number is  4\n",
      "result is  16\n",
      "4\n",
      "number is  5\n",
      "result is  20\n",
      "number is  6\n",
      "result is  24\n",
      "6\n",
      "number is  7\n",
      "result is  28\n",
      "number is  8\n",
      "result is  32\n",
      "8\n",
      "number is  9\n",
      "result is  36\n",
      "number is  10\n",
      "result is  40\n",
      "10\n",
      "number is  11\n",
      "result is  44\n",
      "number is  12\n",
      "result is  48\n",
      "12\n",
      "number is  13\n",
      "result is  52\n",
      "number is  14\n",
      "result is  56\n",
      "14\n",
      "number is  15\n",
      "result is  60\n",
      "number is  16\n",
      "result is  64\n",
      "16\n",
      "number is  17\n",
      "result is  68\n",
      "number is  18\n",
      "result is  72\n",
      "18\n",
      "number is  19\n",
      "result is  76\n",
      "number is  20\n",
      "result is  80\n",
      "20\n",
      "number is  21\n",
      "result is  84\n",
      "number is  22\n",
      "result is  88\n",
      "22\n",
      "number is  23\n",
      "result is  92\n",
      "number is  24\n",
      "result is  96\n",
      "24\n",
      "number is  25\n",
      "result is  100\n",
      "number is  26\n",
      "result is  104\n",
      "26\n",
      "number is  27\n",
      "result is  108\n",
      "number is  28\n",
      "result is  112\n",
      "28\n",
      "number is  29\n",
      "result is  116\n",
      "number is  30\n",
      "result is  120\n",
      "30\n",
      "number is  31\n",
      "result is  124\n",
      "number is  32\n",
      "result is  128\n",
      "32\n",
      "number is  33\n",
      "result is  132\n",
      "number is  34\n",
      "result is  136\n",
      "34\n",
      "number is  35\n",
      "result is  140\n",
      "number is  36\n",
      "result is  144\n",
      "36\n",
      "number is  37\n",
      "result is  148\n",
      "number is  38\n",
      "result is  152\n",
      "38\n",
      "number is  39\n",
      "result is  156\n",
      "number is  40\n",
      "result is  160\n",
      "40\n",
      "number is  41\n",
      "result is  164\n",
      "number is  42\n",
      "result is  168\n",
      "42\n",
      "number is  43\n",
      "result is  172\n",
      "number is  44\n",
      "result is  176\n",
      "44\n",
      "number is  45\n",
      "result is  180\n",
      "number is  46\n",
      "result is  184\n",
      "46\n",
      "number is  47\n",
      "result is  188\n",
      "number is  48\n",
      "result is  192\n",
      "48\n",
      "number is  49\n",
      "result is  196\n",
      "number is  50\n",
      "result is  200\n",
      "50\n",
      "number is  51\n",
      "result is  204\n",
      "number is  52\n",
      "result is  208\n",
      "52\n",
      "number is  53\n",
      "result is  212\n",
      "number is  54\n",
      "result is  216\n",
      "54\n",
      "number is  55\n",
      "result is  220\n",
      "number is  56\n",
      "result is  224\n",
      "56\n",
      "number is  57\n",
      "result is  228\n",
      "number is  58\n",
      "result is  232\n",
      "58\n",
      "number is  59\n",
      "result is  236\n",
      "number is  60\n",
      "result is  240\n",
      "60\n",
      "number is  61\n",
      "result is  244\n",
      "number is  62\n",
      "result is  248\n",
      "62\n",
      "number is  63\n",
      "result is  252\n",
      "number is  64\n",
      "result is  256\n",
      "64\n",
      "number is  65\n",
      "result is  260\n",
      "number is  66\n",
      "result is  264\n",
      "66\n",
      "number is  67\n",
      "result is  268\n",
      "number is  68\n",
      "result is  272\n",
      "68\n",
      "number is  69\n",
      "result is  276\n",
      "number is  70\n",
      "result is  280\n",
      "70\n",
      "number is  71\n",
      "result is  284\n",
      "number is  72\n",
      "result is  288\n",
      "72\n",
      "number is  73\n",
      "result is  292\n",
      "number is  74\n",
      "result is  296\n",
      "74\n",
      "number is  75\n",
      "result is  300\n",
      "number is  76\n",
      "result is  304\n",
      "76\n",
      "number is  77\n",
      "result is  308\n",
      "number is  78\n",
      "result is  312\n",
      "78\n",
      "number is  79\n",
      "result is  316\n",
      "number is  80\n",
      "result is  320\n",
      "80\n",
      "number is  81\n",
      "result is  324\n",
      "number is  82\n",
      "result is  328\n",
      "82\n",
      "number is  83\n",
      "result is  332\n",
      "number is  84\n",
      "result is  336\n",
      "84\n",
      "number is  85\n",
      "result is  340\n",
      "number is  86\n",
      "result is  344\n",
      "86\n",
      "number is  87\n",
      "result is  348\n",
      "number is  88\n",
      "result is  352\n",
      "88\n",
      "number is  89\n",
      "result is  356\n",
      "number is  90\n",
      "result is  360\n",
      "90\n",
      "number is  91\n",
      "result is  364\n",
      "number is  92\n",
      "result is  368\n",
      "92\n",
      "number is  93\n",
      "result is  372\n",
      "number is  94\n",
      "result is  376\n",
      "94\n",
      "number is  95\n",
      "result is  380\n",
      "number is  96\n",
      "result is  384\n",
      "96\n",
      "number is  97\n",
      "result is  388\n",
      "number is  98\n",
      "result is  392\n",
      "98\n",
      "number is  99\n",
      "result is  396\n",
      "number is  100\n",
      "result is  400\n",
      "100\n"
     ]
    }
   ],
   "source": [
    "for i in range(1,101): \n",
    "    if is_even(i): \n",
    "        print(i)"
   ]
  },
  {
   "cell_type": "code",
   "execution_count": 20,
   "id": "f64be38e",
   "metadata": {},
   "outputs": [],
   "source": [
    "def is_even(num): \n",
    "    print(\"number is \", num)\n",
    "    result = num * 4\n",
    "    print(\"result is \", result)\n",
    "    return num % 2 == 0"
   ]
  },
  {
   "cell_type": "code",
   "execution_count": 8,
   "id": "930965e1",
   "metadata": {},
   "outputs": [
    {
     "name": "stdout",
     "output_type": "stream",
     "text": [
      "Hello\n",
      "Hello\n",
      "Hello\n",
      "Hello\n",
      "Hello\n",
      "Hello\n",
      "Hello\n",
      "Hello\n",
      "Hello\n",
      "Hello\n"
     ]
    }
   ],
   "source": [
    "count = 0\n",
    "\n",
    "\n",
    "while count < 10: \n",
    "    print(\"Hello\")\n",
    "    count += 1"
   ]
  },
  {
   "cell_type": "code",
   "execution_count": null,
   "id": "7f1284ad",
   "metadata": {},
   "outputs": [],
   "source": [
    "# coffee shop \n",
    "# discount: student: 20%, teacher: 10%, normal: 0%"
   ]
  },
  {
   "cell_type": "code",
   "execution_count": 11,
   "id": "156a372e",
   "metadata": {},
   "outputs": [
    {
     "name": "stdout",
     "output_type": "stream",
     "text": [
      "What is your job?\n",
      "student\n",
      "What do you want? \n",
      "1) for tea\n",
      "2) for coffee1\n",
      "Current orders:  [{'customer_type': 'student', 'name': 'TEA', 'price': 16.0}]\n",
      "What is your job?\n",
      "teacher\n",
      "What do you want? \n",
      "1) for tea\n",
      "2) for coffee2\n",
      "Current orders:  [{'customer_type': 'student', 'name': 'TEA', 'price': 16.0}, {'customer_type': 'teacher', 'name': 'COFFEE', 'price': 27.0}]\n",
      "What is your job?\n",
      "student\n",
      "What do you want? \n",
      "1) for tea\n",
      "2) for coffee2\n",
      "Current orders:  [{'customer_type': 'student', 'name': 'TEA', 'price': 16.0}, {'customer_type': 'teacher', 'name': 'COFFEE', 'price': 27.0}, {'customer_type': 'student', 'name': 'COFFEE', 'price': 24.0}]\n",
      "What is your job?\n",
      "q\n"
     ]
    }
   ],
   "source": [
    "orders = []\n",
    "TEA_PRICE=20\n",
    "COFFEE_PRICE=30\n",
    "\n",
    "while True: \n",
    "    dicount = 0\n",
    "    customer_type = input('What is your job?\\n')\n",
    "    \n",
    "    if customer_type == 'q': \n",
    "        break\n",
    "    \n",
    "    if customer_type == 'student': \n",
    "        discount = 20\n",
    "        \n",
    "    if customer_type == 'teacher': \n",
    "        discount = 10\n",
    "        \n",
    "    order = None\n",
    "    order_type = input(\"What do you want? \\n1) for tea\\n2) for coffee\")\n",
    "    \n",
    "    if order_type == '1': \n",
    "        order = {\n",
    "            'customer_type': customer_type,\n",
    "            'name': 'TEA', \n",
    "            'price': TEA_PRICE * ((100 - discount) / 100)\n",
    "        }\n",
    "    elif order_type == '2': \n",
    "        order = {\n",
    "          'customer_type': customer_type,\n",
    "          'name': 'COFFEE', \n",
    "            'price': COFFEE_PRICE * ((100-discount)/100)\n",
    "        }\n",
    "        \n",
    "    orders.append(order)\n",
    "    \n",
    "    print(\"Current orders: \", orders)\n"
   ]
  },
  {
   "cell_type": "code",
   "execution_count": 14,
   "id": "5ef87085",
   "metadata": {},
   "outputs": [
    {
     "name": "stdout",
     "output_type": "stream",
     "text": [
      "16.0\n"
     ]
    }
   ],
   "source": [
    "print(orders[0]['price'])"
   ]
  },
  {
   "cell_type": "code",
   "execution_count": 17,
   "id": "e9ceba41",
   "metadata": {},
   "outputs": [
    {
     "name": "stdout",
     "output_type": "stream",
     "text": [
      "TOTAL SALES $67.0\n"
     ]
    }
   ],
   "source": [
    "total = 0\n",
    "for order in orders: \n",
    "    total += order['price']\n",
    "    \n",
    "print('TOTAL SALES', '$'+str(total))"
   ]
  },
  {
   "cell_type": "code",
   "execution_count": 32,
   "id": "4d26c725",
   "metadata": {},
   "outputs": [],
   "source": [
    "def hello(): \n",
    "    pass"
   ]
  },
  {
   "cell_type": "code",
   "execution_count": 36,
   "id": "4feae533",
   "metadata": {},
   "outputs": [],
   "source": [
    "for i in range(100):\n",
    "    pass"
   ]
  },
  {
   "cell_type": "code",
   "execution_count": 37,
   "id": "8e424bbf",
   "metadata": {},
   "outputs": [],
   "source": [
    "if total == 2: \n",
    "    pass"
   ]
  },
  {
   "cell_type": "code",
   "execution_count": null,
   "id": "f51908e2",
   "metadata": {},
   "outputs": [],
   "source": []
  },
  {
   "cell_type": "code",
   "execution_count": null,
   "id": "254ca6ca",
   "metadata": {},
   "outputs": [],
   "source": []
  },
  {
   "cell_type": "code",
   "execution_count": null,
   "id": "2e882888",
   "metadata": {},
   "outputs": [],
   "source": []
  },
  {
   "cell_type": "code",
   "execution_count": null,
   "id": "98e45e09",
   "metadata": {},
   "outputs": [],
   "source": []
  }
 ],
 "metadata": {
  "kernelspec": {
   "display_name": "Python 3 (ipykernel)",
   "language": "python",
   "name": "python3"
  },
  "language_info": {
   "codemirror_mode": {
    "name": "ipython",
    "version": 3
   },
   "file_extension": ".py",
   "mimetype": "text/x-python",
   "name": "python",
   "nbconvert_exporter": "python",
   "pygments_lexer": "ipython3",
   "version": "3.11.3"
  }
 },
 "nbformat": 4,
 "nbformat_minor": 5
}
