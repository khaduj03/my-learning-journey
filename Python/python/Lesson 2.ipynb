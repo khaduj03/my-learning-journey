{
 "cells": [
  {
   "cell_type": "code",
   "execution_count": 4,
   "id": "1d66232f",
   "metadata": {},
   "outputs": [],
   "source": [
    "languages = [1, 'String', [], {'key': 'value'}]"
   ]
  },
  {
   "cell_type": "code",
   "execution_count": 19,
   "id": "14e31091",
   "metadata": {},
   "outputs": [],
   "source": [
    "subjects = ( 'python', 'js', 'html', 'css', 'reactjs', 'nodejs' , languages)"
   ]
  },
  {
   "cell_type": "code",
   "execution_count": 6,
   "id": "b8895f39",
   "metadata": {},
   "outputs": [
    {
     "name": "stdout",
     "output_type": "stream",
     "text": [
      "[1, 'String', [], {'key': 'value'}]\n"
     ]
    }
   ],
   "source": [
    "print(languages)"
   ]
  },
  {
   "cell_type": "code",
   "execution_count": 7,
   "id": "2e531c87",
   "metadata": {},
   "outputs": [
    {
     "data": {
      "text/plain": [
       "4"
      ]
     },
     "execution_count": 7,
     "metadata": {},
     "output_type": "execute_result"
    }
   ],
   "source": [
    "len(languages) # length sequence"
   ]
  },
  {
   "cell_type": "code",
   "execution_count": 66,
   "id": "4ee333ea",
   "metadata": {},
   "outputs": [
    {
     "data": {
      "text/plain": [
       "True"
      ]
     },
     "execution_count": 66,
     "metadata": {},
     "output_type": "execute_result"
    }
   ],
   "source": [
    "'i' in 'String'"
   ]
  },
  {
   "cell_type": "code",
   "execution_count": 8,
   "id": "941e2138",
   "metadata": {},
   "outputs": [
    {
     "data": {
      "text/plain": [
       "6"
      ]
     },
     "execution_count": 8,
     "metadata": {},
     "output_type": "execute_result"
    }
   ],
   "source": [
    "len('string')"
   ]
  },
  {
   "cell_type": "code",
   "execution_count": null,
   "id": "15dd7c38",
   "metadata": {},
   "outputs": [],
   "source": [
    "dictionary = languages[3]"
   ]
  },
  {
   "cell_type": "code",
   "execution_count": 20,
   "id": "13db005a",
   "metadata": {},
   "outputs": [
    {
     "name": "stdout",
     "output_type": "stream",
     "text": [
      "('python', 'js', 'html', 'css', 'reactjs', 'nodejs', [1, 'String', [], {'key': 'value'}])\n"
     ]
    }
   ],
   "source": [
    "print(subjects)"
   ]
  },
  {
   "cell_type": "code",
   "execution_count": 22,
   "id": "fd9cab50",
   "metadata": {},
   "outputs": [
    {
     "data": {
      "text/plain": [
       "'value'"
      ]
     },
     "execution_count": 22,
     "metadata": {},
     "output_type": "execute_result"
    }
   ],
   "source": [
    "dictionary['key']"
   ]
  },
  {
   "cell_type": "code",
   "execution_count": 23,
   "id": "237a4260",
   "metadata": {},
   "outputs": [],
   "source": [
    "person = {\n",
    "    'name': 'Ahmad', \n",
    "    'age': 20, \n",
    "    'class': 'Python'\n",
    "}"
   ]
  },
  {
   "cell_type": "code",
   "execution_count": 26,
   "id": "66bc59da",
   "metadata": {},
   "outputs": [
    {
     "data": {
      "text/plain": [
       "'Python'"
      ]
     },
     "execution_count": 26,
     "metadata": {},
     "output_type": "execute_result"
    }
   ],
   "source": [
    "person['class']"
   ]
  },
  {
   "cell_type": "code",
   "execution_count": 27,
   "id": "0a43b27c",
   "metadata": {},
   "outputs": [],
   "source": [
    "int_val = 1\n",
    "float_val = 2.3"
   ]
  },
  {
   "cell_type": "code",
   "execution_count": 28,
   "id": "78b581da",
   "metadata": {},
   "outputs": [],
   "source": [
    "s = int_val + float_val"
   ]
  },
  {
   "cell_type": "code",
   "execution_count": 39,
   "id": "b7945871",
   "metadata": {},
   "outputs": [
    {
     "data": {
      "text/plain": [
       "3"
      ]
     },
     "execution_count": 39,
     "metadata": {},
     "output_type": "execute_result"
    }
   ],
   "source": [
    "int(s)"
   ]
  },
  {
   "cell_type": "code",
   "execution_count": 33,
   "id": "44f68271",
   "metadata": {},
   "outputs": [
    {
     "data": {
      "text/plain": [
       "1.0"
      ]
     },
     "execution_count": 33,
     "metadata": {},
     "output_type": "execute_result"
    }
   ],
   "source": [
    "float(int_val)"
   ]
  },
  {
   "cell_type": "code",
   "execution_count": 35,
   "id": "6dc04bf3",
   "metadata": {},
   "outputs": [],
   "source": [
    "x= '30000'"
   ]
  },
  {
   "cell_type": "code",
   "execution_count": 36,
   "id": "62adc785",
   "metadata": {},
   "outputs": [
    {
     "data": {
      "text/plain": [
       "str"
      ]
     },
     "execution_count": 36,
     "metadata": {},
     "output_type": "execute_result"
    }
   ],
   "source": [
    "type(x)"
   ]
  },
  {
   "cell_type": "code",
   "execution_count": 38,
   "id": "948ffce4",
   "metadata": {},
   "outputs": [
    {
     "data": {
      "text/plain": [
       "30030"
      ]
     },
     "execution_count": 38,
     "metadata": {},
     "output_type": "execute_result"
    }
   ],
   "source": [
    "int(x) + 30"
   ]
  },
  {
   "cell_type": "code",
   "execution_count": 47,
   "id": "680cb6d6",
   "metadata": {},
   "outputs": [],
   "source": [
    "a = 10\n",
    "b = 10\n"
   ]
  },
  {
   "cell_type": "code",
   "execution_count": 48,
   "id": "a7fd71df",
   "metadata": {},
   "outputs": [
    {
     "data": {
      "text/plain": [
       "True"
      ]
     },
     "execution_count": 48,
     "metadata": {},
     "output_type": "execute_result"
    }
   ],
   "source": [
    "a == b"
   ]
  },
  {
   "cell_type": "code",
   "execution_count": 49,
   "id": "2fa4193c",
   "metadata": {},
   "outputs": [
    {
     "data": {
      "text/plain": [
       "False"
      ]
     },
     "execution_count": 49,
     "metadata": {},
     "output_type": "execute_result"
    }
   ],
   "source": [
    "a > b"
   ]
  },
  {
   "cell_type": "code",
   "execution_count": 50,
   "id": "58374f19",
   "metadata": {},
   "outputs": [
    {
     "data": {
      "text/plain": [
       "False"
      ]
     },
     "execution_count": 50,
     "metadata": {},
     "output_type": "execute_result"
    }
   ],
   "source": [
    "a < b"
   ]
  },
  {
   "cell_type": "code",
   "execution_count": 51,
   "id": "1d9c1cba",
   "metadata": {},
   "outputs": [
    {
     "data": {
      "text/plain": [
       "True"
      ]
     },
     "execution_count": 51,
     "metadata": {},
     "output_type": "execute_result"
    }
   ],
   "source": [
    "a >= b"
   ]
  },
  {
   "cell_type": "code",
   "execution_count": 52,
   "id": "d4f17c35",
   "metadata": {},
   "outputs": [
    {
     "data": {
      "text/plain": [
       "True"
      ]
     },
     "execution_count": 52,
     "metadata": {},
     "output_type": "execute_result"
    }
   ],
   "source": [
    "a <= b"
   ]
  },
  {
   "cell_type": "code",
   "execution_count": 53,
   "id": "f2e36cea",
   "metadata": {},
   "outputs": [],
   "source": [
    "# logical operators"
   ]
  },
  {
   "cell_type": "code",
   "execution_count": 54,
   "id": "cbcdc56d",
   "metadata": {},
   "outputs": [
    {
     "data": {
      "text/plain": [
       "False"
      ]
     },
     "execution_count": 54,
     "metadata": {},
     "output_type": "execute_result"
    }
   ],
   "source": [
    "True and False"
   ]
  },
  {
   "cell_type": "code",
   "execution_count": 55,
   "id": "66e9f7f1",
   "metadata": {},
   "outputs": [
    {
     "data": {
      "text/plain": [
       "'\\nand operator\\n1 * 1 = 1 True and True = True\\n1 * 0 = 0 True and False = False\\n0 * 1 = 0 False and True = False\\n0 * 0 = 0 False and False = False\\n'"
      ]
     },
     "execution_count": 55,
     "metadata": {},
     "output_type": "execute_result"
    }
   ],
   "source": [
    "'''\n",
    "and operator\n",
    "1 * 1 = 1 True and True = True\n",
    "1 * 0 = 0 True and False = False\n",
    "0 * 1 = 0 False and True = False\n",
    "0 * 0 = 0 False and False = False\n",
    "\n",
    "OR operator\n",
    "1 + 1 = 1 True or True = True\n",
    "1 + 0 = 1 True or False = True\n",
    "0 + 1 = 1 False or True = True\n",
    "0 + 0 = 0 False or False = False\n",
    "\n",
    "'''"
   ]
  },
  {
   "cell_type": "code",
   "execution_count": 58,
   "id": "8c91835c",
   "metadata": {},
   "outputs": [
    {
     "data": {
      "text/plain": [
       "False"
      ]
     },
     "execution_count": 58,
     "metadata": {},
     "output_type": "execute_result"
    }
   ],
   "source": [
    "(1 > 2) and (2 > 1)"
   ]
  },
  {
   "cell_type": "code",
   "execution_count": 60,
   "id": "59f68c19",
   "metadata": {},
   "outputs": [
    {
     "data": {
      "text/plain": [
       "True"
      ]
     },
     "execution_count": 60,
     "metadata": {},
     "output_type": "execute_result"
    }
   ],
   "source": [
    "1 == 1"
   ]
  },
  {
   "cell_type": "code",
   "execution_count": null,
   "id": "2e71c59a",
   "metadata": {},
   "outputs": [],
   "source": []
  }
 ],
 "metadata": {
  "kernelspec": {
   "display_name": "Python 3 (ipykernel)",
   "language": "python",
   "name": "python3"
  },
  "language_info": {
   "codemirror_mode": {
    "name": "ipython",
    "version": 3
   },
   "file_extension": ".py",
   "mimetype": "text/x-python",
   "name": "python",
   "nbconvert_exporter": "python",
   "pygments_lexer": "ipython3",
   "version": "3.11.3"
  }
 },
 "nbformat": 4,
 "nbformat_minor": 5
}
