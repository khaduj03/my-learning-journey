{
 "cells": [
  {
   "cell_type": "code",
   "execution_count": 21,
   "id": "95b715c1",
   "metadata": {},
   "outputs": [
    {
     "name": "stdout",
     "output_type": "stream",
     "text": [
      "This is running because the if condition was False\n"
     ]
    }
   ],
   "source": [
    "if False: \n",
    "    print(\"CONDITION IS TRUE\")\n",
    "else: \n",
    "    print(\"This is running because the if condition was False\")"
   ]
  },
  {
   "cell_type": "code",
   "execution_count": 2,
   "id": "aa112b77",
   "metadata": {},
   "outputs": [
    {
     "name": "stdout",
     "output_type": "stream",
     "text": [
      "80\n"
     ]
    }
   ],
   "source": [
    "print(grade)"
   ]
  },
  {
   "cell_type": "code",
   "execution_count": 18,
   "id": "b0192eb6",
   "metadata": {},
   "outputs": [
    {
     "name": "stdout",
     "output_type": "stream",
     "text": [
      "Enter your grade: 10\n",
      "THis is end end of the code\n"
     ]
    }
   ],
   "source": [
    "grade = int(input(\"Enter your grade: \"))\n",
    "if grade > 90: # TRUE\n",
    "    print(\"A\")\n",
    "elif grade > 75:  # else if\n",
    "    print(\"B\")\n",
    "# else: \n",
    "#     print('D')\n",
    "    \n",
    "print(\"THis is end end of the code\")"
   ]
  },
  {
   "cell_type": "code",
   "execution_count": null,
   "id": "00b57c71",
   "metadata": {},
   "outputs": [],
   "source": [
    "# if condition: \n",
    "#     block to run\n",
    "#     print('')\n",
    "#     new function call\n",
    "    "
   ]
  },
  {
   "cell_type": "code",
   "execution_count": 22,
   "id": "ecf45f90",
   "metadata": {},
   "outputs": [
    {
     "name": "stdout",
     "output_type": "stream",
     "text": [
      "A is in:  Ahmad\n"
     ]
    }
   ],
   "source": [
    "name = 'Ahmad'\n",
    "\n",
    "\n",
    "if 'A' in name: \n",
    "    print(\"A is in: \", name)\n",
    "    if 'a' in name: \n",
    "        "
   ]
  },
  {
   "cell_type": "code",
   "execution_count": null,
   "id": "891beb47",
   "metadata": {},
   "outputs": [],
   "source": []
  }
 ],
 "metadata": {
  "kernelspec": {
   "display_name": "Python 3 (ipykernel)",
   "language": "python",
   "name": "python3"
  },
  "language_info": {
   "codemirror_mode": {
    "name": "ipython",
    "version": 3
   },
   "file_extension": ".py",
   "mimetype": "text/x-python",
   "name": "python",
   "nbconvert_exporter": "python",
   "pygments_lexer": "ipython3",
   "version": "3.11.3"
  }
 },
 "nbformat": 4,
 "nbformat_minor": 5
}
